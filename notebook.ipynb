{
 "cells": [
  {
   "cell_type": "code",
   "execution_count": 1,
   "metadata": {
    "collapsed": true
   },
   "outputs": [],
   "source": [
    "import numpy as np\n",
    "import tensorflow as tf\n",
    "from sklearn.cluster import DBSCAN, KMeans\n",
    "from matplotlib import pyplot as plt\n",
    "from math import inf"
   ]
  },
  {
   "cell_type": "code",
   "execution_count": 2,
   "outputs": [
    {
     "name": "stdout",
     "output_type": "stream",
     "text": [
      " TensorFlow version: 2.10.0\n",
      " NumPy versio: 1.23.4\n"
     ]
    }
   ],
   "source": [
    "print(f' TensorFlow version: {tf.__version__}')\n",
    "print(f' NumPy versio: {np.__version__}')"
   ],
   "metadata": {
    "collapsed": false
   }
  },
  {
   "cell_type": "markdown",
   "source": [
    "## Algorithms implementation"
   ],
   "metadata": {
    "collapsed": false
   }
  },
  {
   "cell_type": "markdown",
   "source": [
    "### Utils"
   ],
   "metadata": {
    "collapsed": false
   }
  },
  {
   "cell_type": "code",
   "execution_count": 3,
   "outputs": [],
   "source": [
    "def dbscan(x):\n",
    "    x_list = x.tolist()\n",
    "    clustering = DBSCAN(eps=2).fit(x.reshape(-1, 1))\n",
    "    x_labels = clustering.labels_.tolist()\n",
    "    clusters = [[] for _ in range(max(x_labels)+1)]\n",
    "    noice = []\n",
    "    for i in range(len(x_list)):\n",
    "        if x_labels[i] == -1:\n",
    "            noice.append(x_list[i])\n",
    "        else:\n",
    "            clusters[x_labels[i]].append(x_list[i])\n",
    "    return clusters, noice"
   ],
   "metadata": {
    "collapsed": false
   }
  },
  {
   "cell_type": "markdown",
   "source": [
    "### Stage 1 - Flow clustering"
   ],
   "metadata": {
    "collapsed": false
   }
  },
  {
   "cell_type": "code",
   "execution_count": 4,
   "outputs": [],
   "source": [
    "def subset_of_sets(_set: set, sets):\n",
    "    return len([_ for s in sets if all([x in s for x in _set])]) > 0\n",
    "\n",
    "\n",
    "def tp_cluster(clusters: set, noise: set, tp_ratio: float, tp_deviation: float):\n",
    "    \"\"\"\n",
    "        Parameters :\n",
    "            clusters : set\n",
    "                Set of DBSCAN cluster sets in descending throughput order\n",
    "            noise : set\n",
    "                Set of DBSCAN noice flows\n",
    "            tp_ratio : float\n",
    "                Ratio used to determine if two DBSCAN clusters can be combined into one TPCluster\n",
    "            tp_deviation : float\n",
    "                The relative distance a noise flow can be away from a TPCluster to be assigned to that cluster\n",
    "\n",
    "        Returns :\n",
    "            cs : set\n",
    "                set of TPClusters\n",
    "    \"\"\"\n",
    "\n",
    "    r = 0\n",
    "    cs = []\n",
    "    for cluster in clusters:\n",
    "        if not subset_of_sets(cluster, cs):\n",
    "            cs.append(cluster)\n",
    "            m = max(cluster)\n",
    "            for cluster_k in clusters:\n",
    "                if cluster_k is cluster: continue\n",
    "                m_prim = max(cluster_k)\n",
    "                if (1 - tp_ratio) * m < m_prim < m:\n",
    "                    cs[r] += cluster_k\n",
    "            r += 1\n",
    "    for n_j in noise:\n",
    "        delta_min = inf\n",
    "        a = None\n",
    "        for i in range(len(cs)):\n",
    "            m = max(cs[i])\n",
    "            if (-tp_deviation * m) <= (m - n_j) <= delta_min:\n",
    "                delta_min = m - n_j\n",
    "                a = i\n",
    "        if a:\n",
    "            cs[a].append(n_j)\n",
    "        else:\n",
    "            cs[0].append(n_j)\n",
    "    return cs\n"
   ],
   "metadata": {
    "collapsed": false
   }
  },
  {
   "cell_type": "markdown",
   "source": [
    "### Stage 2 - FOF computation"
   ],
   "metadata": {
    "collapsed": false
   }
  },
  {
   "cell_type": "code",
   "execution_count": 5,
   "outputs": [],
   "source": [
    "def compute_fof(cs):\n",
    "    \"\"\"\n",
    "        Parameters:\n",
    "            cs : list of TPClusters\n",
    "\n",
    "        Returns:\n",
    "            f: 2d list\n",
    "                FOF score for each flow in each cluster\n",
    "            trace : dict\n",
    "                dictionary mapping throughput to fof score\n",
    "\n",
    "    \"\"\"\n",
    "    f = [[_ for _ in c_i] for c_i in cs]\n",
    "    trace = dict()\n",
    "    k = len(cs)\n",
    "    for i in range(k):\n",
    "        c_np = np.array(cs[i])\n",
    "        s_labels = KMeans(n_clusters=k).fit(c_np.reshape((-1, 1))).labels_\n",
    "        s_count = max(s_labels) + 1\n",
    "        c_prim = 0\n",
    "        for s_i in range(s_count):\n",
    "            c_prim = max(c_prim, np.sum(c_np * (s_labels == s_i)) / np.sum(s_labels == s_i))\n",
    "        for j in range(len(cs[i])):\n",
    "            f[i][j] = np.abs(cs[i][j] - c_prim) / np.abs(c_prim)\n",
    "            trace[cs[i][j]] = f[i][j]\n",
    "    return f, trace\n"
   ],
   "metadata": {
    "collapsed": false
   }
  },
  {
   "cell_type": "markdown",
   "source": [
    "### Flow tracing"
   ],
   "metadata": {
    "collapsed": false
   }
  },
  {
   "cell_type": "code",
   "execution_count": 6,
   "outputs": [],
   "source": [
    "def compute_nlof_score(links, trace, gamma):\n",
    "    \"\"\"\n",
    "        Parameters:\n",
    "            links : 2d list\n",
    "                links, each link contains list of flows (throughput)\n",
    "            trace : dict\n",
    "                dictionary mapping throughput to fof score\n",
    "            gamma : float\n",
    "                Outlier treshold\n",
    "\n",
    "        Returns:\n",
    "            scores : list\n",
    "                nlof scores for each link\n",
    "    \"\"\"\n",
    "    scores = [0 * len(links)]\n",
    "    for i in range(len(links)):\n",
    "        r = 0\n",
    "        for j in range(len(links[i])):\n",
    "            if trace[links[i][j]] > gamma :\n",
    "                r += 1\n",
    "        scores[i] = r / len(links[i])\n",
    "    return scores\n"
   ],
   "metadata": {
    "collapsed": false
   }
  },
  {
   "cell_type": "markdown",
   "source": [
    "## Testing"
   ],
   "metadata": {
    "collapsed": false
   }
  },
  {
   "cell_type": "code",
   "execution_count": 7,
   "outputs": [
    {
     "name": "stdout",
     "output_type": "stream",
     "text": [
      "([[10.16904829896689, 9.013407251038288, 10.74897425738573, 10.092729788936698, 9.483175960018587, 9.094416701552658, 10.041010668586999, 8.551979026843924, 7.905921768578798, 9.6371263176968], [19.660847297541068, 20.661873414769943, 18.03817594466103, 18.53777455433735, 22.047048298883514, 19.362017243537526, 20.77326362596945, 19.611089110047246, 18.798554981107667, 21.96626806407906], [30.87427035532167, 30.585110423088555, 29.25313739265998, 28.615935840339166, 30.209031777599517, 30.201089771488025, 29.79203552725913, 29.46489182533528, 30.04300343023502, 31.50847631959021]], [0.0])\n"
     ]
    }
   ],
   "source": [
    "# dbscan test\n",
    "X1 = np.random.normal(10, 1, 10)\n",
    "X2 = np.random.normal(20, 1, 10)\n",
    "X3 = np.random.normal(30, 1, 10)\n",
    "X = np.concatenate((X1, X2, X3, np.array([0])), axis=0)\n",
    "print(dbscan(X))"
   ],
   "metadata": {
    "collapsed": false
   }
  },
  {
   "cell_type": "code",
   "execution_count": 8,
   "outputs": [
    {
     "name": "stdout",
     "output_type": "stream",
     "text": [
      "[10.25869933 10.27066869  8.35974943  9.75411266 10.14089358  9.40487923\n",
      " 10.44568236  9.16328806 10.02813066 11.37165016]\n",
      "[1 1 1 1 1 1 1 1 1 1 0 0 0 0 0 0 0 0 0 0 2 2 2 2 2 2 2 2 2 2 3]\n",
      "19.945691253493386\n"
     ]
    }
   ],
   "source": [
    "# k_means test\n",
    "Y = np.random.normal(10, 1, 10)\n",
    "k_means = KMeans(n_clusters=4).fit(X.reshape(-1, 1)).labels_\n",
    "print(Y)\n",
    "print(k_means)\n",
    "print(np.sum(X * (k_means == 0)) / np.sum(k_means == 0))"
   ],
   "metadata": {
    "collapsed": false
   }
  },
  {
   "cell_type": "code",
   "execution_count": 9,
   "outputs": [
    {
     "name": "stdout",
     "output_type": "stream",
     "text": [
      "X: [10.1690483   9.01340725 10.74897426 10.09272979  9.48317596  9.0944167\n",
      " 10.04101067  8.55197903  7.90592177  9.63712632 19.6608473  20.66187341\n",
      " 18.03817594 18.53777455 22.0470483  19.36201724 20.77326363 19.61108911\n",
      " 18.79855498 21.96626806 30.87427036 30.58511042 29.25313739 28.61593584\n",
      " 30.20903178 30.20108977 29.79203553 29.46489183 30.04300343 31.50847632\n",
      "  0.        ]\n",
      "Clusters and noise: [[10.16904829896689, 9.013407251038288, 10.74897425738573, 10.092729788936698, 9.483175960018587, 9.094416701552658, 10.041010668586999, 8.551979026843924, 7.905921768578798, 9.6371263176968], [19.660847297541068, 20.661873414769943, 18.03817594466103, 18.53777455433735, 22.047048298883514, 19.362017243537526, 20.77326362596945, 19.611089110047246, 18.798554981107667, 21.96626806407906], [30.87427035532167, 30.585110423088555, 29.25313739265998, 28.615935840339166, 30.209031777599517, 30.201089771488025, 29.79203552725913, 29.46489182533528, 30.04300343023502, 31.50847631959021]] [0.0]\n"
     ]
    }
   ],
   "source": [
    "# Stage 1 test\n",
    "print(\"X:\", X)\n",
    "clusters, noise = dbscan(X)\n",
    "print(\"Clusters and noise:\", clusters, noise)\n",
    "tpc = tp_cluster(clusters, noise, 0.2, 0.2)"
   ],
   "metadata": {
    "collapsed": false
   }
  },
  {
   "cell_type": "code",
   "execution_count": 10,
   "outputs": [
    {
     "data": {
      "text/plain": "<matplotlib.collections.PathCollection at 0x15f0d3bff10>"
     },
     "execution_count": 10,
     "metadata": {},
     "output_type": "execute_result"
    },
    {
     "data": {
      "text/plain": "<Figure size 640x480 with 1 Axes>",
      "image/png": "[encoded data removed]"
     },
     "metadata": {},
     "output_type": "display_data"
    }
   ],
   "source": [
    "plt.scatter(np.array(tpc[0]), np.ones((1, len(tpc[0]))), color ='red')\n",
    "plt.scatter(np.array(tpc[1]), np.ones((1, len(tpc[1]))), color = 'blue')\n",
    "plt.scatter(np.array(tpc[2]), np.ones((1, len(tpc[2]))), color = 'green')"
   ],
   "metadata": {
    "collapsed": false
   }
  },
  {
   "cell_type": "code",
   "execution_count": 11,
   "outputs": [
    {
     "name": "stdout",
     "output_type": "stream",
     "text": [
      "([[0.013996935257718824, 0.10123670769554265, 0.07182369811937611, 0.006386907947502094, 0.05439416971345916, 0.09315892773683905, 0.0012297852761359571, 0.1472475822059952, 0.21166856444760734, 0.03904315688727383, 1.0], [0.10659550689591885, 0.06110808627195316, 0.1803309800194812, 0.15762882299244407, 0.0018353589658704856, 0.12017458153502097, 0.05604642673778357, 0.10885655839603683, 0.14577875358982278, 0.0018353589658703243], [0.010166368075671691, 0.019436877876722346, 0.062140128420329684, 0.08256890356360416, 0.031494014361874365, 0.03174863624163477, 0.04486297525464913, 0.05535125027814749, 0.036816907508266265, 0.010166368075671691]], {10.16904829896689: 0.013996935257718824, 9.013407251038288: 0.10123670769554265, 10.74897425738573: 0.07182369811937611, 10.092729788936698: 0.006386907947502094, 9.483175960018587: 0.05439416971345916, 9.094416701552658: 0.09315892773683905, 10.041010668586999: 0.0012297852761359571, 8.551979026843924: 0.1472475822059952, 7.905921768578798: 0.21166856444760734, 9.6371263176968: 0.03904315688727383, 0.0: 1.0, 19.660847297541068: 0.10659550689591885, 20.661873414769943: 0.06110808627195316, 18.03817594466103: 0.1803309800194812, 18.53777455433735: 0.15762882299244407, 22.047048298883514: 0.0018353589658704856, 19.362017243537526: 0.12017458153502097, 20.77326362596945: 0.05604642673778357, 19.611089110047246: 0.10885655839603683, 18.798554981107667: 0.14577875358982278, 21.96626806407906: 0.0018353589658703243, 30.87427035532167: 0.010166368075671691, 30.585110423088555: 0.019436877876722346, 29.25313739265998: 0.062140128420329684, 28.615935840339166: 0.08256890356360416, 30.209031777599517: 0.031494014361874365, 30.201089771488025: 0.03174863624163477, 29.79203552725913: 0.04486297525464913, 29.46489182533528: 0.05535125027814749, 30.04300343023502: 0.036816907508266265, 31.50847631959021: 0.010166368075671691})\n"
     ]
    }
   ],
   "source": [
    "# Stage 2 test\n",
    "print(compute_fof(tpc))"
   ],
   "metadata": {
    "collapsed": false
   }
  }
 ],
 "metadata": {
  "kernelspec": {
   "display_name": "Python 3 (ipykernel)",
   "language": "python",
   "name": "python3"
  },
  "language_info": {
   "codemirror_mode": {
    "name": "ipython",
    "version": 2
   },
   "file_extension": ".py",
   "mimetype": "text/x-python",
   "name": "python",
   "nbconvert_exporter": "python",
   "pygments_lexer": "ipython2",
   "version": "2.7.6"
  }
 },
 "nbformat": 4,
 "nbformat_minor": 1
}
