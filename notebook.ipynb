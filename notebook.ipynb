{
 "cells": [
  {
   "cell_type": "code",
   "execution_count": 5,
   "metadata": {
    "collapsed": true
   },
   "outputs": [],
   "source": [
    "import numpy as np\n",
    "import tensorflow as tf\n",
    "from sklearn.cluster import DBSCAN, KMeans\n",
    "from matplotlib import pyplot as plt\n",
    "from math import inf"
   ]
  },
  {
   "cell_type": "code",
   "execution_count": 6,
   "outputs": [
    {
     "name": "stdout",
     "output_type": "stream",
     "text": [
      " TensorFlow version: 2.10.0\n",
      " NumPy versio: 1.23.4\n"
     ]
    }
   ],
   "source": [
    "print(f' TensorFlow version: {tf.__version__}')\n",
    "print(f' NumPy versio: {np.__version__}')"
   ],
   "metadata": {
    "collapsed": false
   }
  },
  {
   "cell_type": "markdown",
   "source": [
    "## Algorithms implementation"
   ],
   "metadata": {
    "collapsed": false
   }
  },
  {
   "cell_type": "markdown",
   "source": [
    "### Utils"
   ],
   "metadata": {
    "collapsed": false
   }
  },
  {
   "cell_type": "code",
   "execution_count": 112,
   "outputs": [],
   "source": [
    "def dbscan(x):\n",
    "    x_list = x.tolist()\n",
    "    clustering = DBSCAN(eps=2).fit(x.reshape(-1, 1))\n",
    "    x_labels = clustering.labels_.tolist()\n",
    "    clusters = [[] for _ in range(max(x_labels)+1)]\n",
    "    print(clusters)\n",
    "    print(x_labels)\n",
    "    noice = []\n",
    "    for i in range(len(x_list)):\n",
    "        if x_labels[i] == -1:\n",
    "            noice.append(x_list[i])\n",
    "        else:\n",
    "            clusters[x_labels[i]].append(x_list[i])\n",
    "    return clusters, noice"
   ],
   "metadata": {
    "collapsed": false
   }
  },
  {
   "cell_type": "markdown",
   "source": [
    "### Stage 1 - Flow clustering"
   ],
   "metadata": {
    "collapsed": false
   }
  },
  {
   "cell_type": "code",
   "execution_count": 109,
   "outputs": [],
   "source": [
    "def subset_of_sets(_set: set, sets):\n",
    "    return len([_ for s in sets if _set.issubset(s)]) > 0\n",
    "\n",
    "\n",
    "def tp_cluster(clusters: set, noise: set, tp_ratio: float, tp_deviation: float):\n",
    "    \"\"\"\n",
    "        Parameters\n",
    "        clusters : set\n",
    "            Set of DBSCAN cluster sets in descending throughput order\n",
    "        noise : set\n",
    "            Set of DBSCAN noice flows\n",
    "        tp_ratio : float\n",
    "            Ratio used to determine if two DBSCAN clusters can be combined into one TPCluster\n",
    "        tp_deviation : float\n",
    "            The relative distance a noise flow can be away from a TPCluster to be assigned to that cluster\n",
    "\n",
    "        Returns\n",
    "        cs : set\n",
    "            set of TPClusters\n",
    "    \"\"\"\n",
    "\n",
    "    r = 0\n",
    "    cs = []\n",
    "    for cluster in clusters:\n",
    "        if not subset_of_sets(cluster, cs):\n",
    "            cs.append(cluster)\n",
    "            m = max(cluster)\n",
    "            for cluster_k in clusters:\n",
    "                if cluster_k is cluster: continue\n",
    "                m_prim = max(cluster_k)\n",
    "                if (1 - tp_ratio) * m < m_prim < m:\n",
    "                    cs[r] += cluster_k\n",
    "            r += 1\n",
    "    for n_j in noise:\n",
    "        delta_min = inf\n",
    "        a = None\n",
    "        for i in range(len(cs)):\n",
    "            m = max(cs[i])\n",
    "            if (-tp_deviation * m) <= (m - n_j) <= delta_min:\n",
    "                delta_min = m - n_j\n",
    "                a = i\n",
    "        if a:\n",
    "            cs[a] += n_j\n",
    "        else:\n",
    "            cs[0] += n_j\n",
    "    return cs\n"
   ],
   "metadata": {
    "collapsed": false
   }
  },
  {
   "cell_type": "markdown",
   "source": [
    "### Stage 2 - FOF computation"
   ],
   "metadata": {
    "collapsed": false
   }
  },
  {
   "cell_type": "code",
   "execution_count": 110,
   "outputs": [],
   "source": [
    "def compute_fof(clusters):\n",
    "    \"\"\"\n",
    "        Parameters\n",
    "        clusters : set\n",
    "            Set of TPCluster sets\n",
    "\n",
    "        Returns:\n",
    "            FOF score for each flow in each cluster\n",
    "    \"\"\"\n",
    "    k = len(clusters)\n",
    "    for c_i in clusters:\n",
    "        s = KMeans(n_clusters=k).fit(np.array(c_i))\n",
    "        c_i_prim = max()"
   ],
   "metadata": {
    "collapsed": false
   }
  },
  {
   "cell_type": "markdown",
   "source": [
    "## Testing"
   ],
   "metadata": {
    "collapsed": false
   }
  },
  {
   "cell_type": "code",
   "execution_count": 113,
   "outputs": [
    {
     "name": "stdout",
     "output_type": "stream",
     "text": [
      "[[], [], []]\n",
      "[0, 0, 0, 0, 0, 0, 0, 0, 0, 0, 1, 1, 1, 1, 1, 1, 1, 1, 1, 1, 2, 2, 2, 2, 2, 2, 2, 2, 2, 2]\n",
      "([[9.734024296675189, 10.030642713019452, 11.846400303539433, 9.131991272465905, 11.080310207003981, 12.269035371173128, 10.806924453755322, 8.61498353397189, 10.235552246670562, 8.580138089749353], [19.67926213444093, 20.9429052313879, 19.223165510964897, 17.75116355107008, 19.65613929608209, 20.081618773816892, 18.806581854896645, 21.88592524428429, 21.004368486680935, 20.327905747263316], [32.0373963062916, 28.897773655470274, 30.640691183459793, 28.63815949129994, 30.38541875010265, 30.373793978207246, 31.730555522824222, 32.341630293267464, 31.776490032379677, 28.93561965653828]], [])\n"
     ]
    }
   ],
   "source": [
    "X1 = np.random.normal(10, 1, 10)\n",
    "X2 = np.random.normal(20, 1, 10)\n",
    "X3 = np.random.normal(30, 1, 10)\n",
    "X = np.concatenate((X1, X2, X3), axis=0)\n",
    "print(dbscan(X))\n",
    "# X_list = X.tolist()\n",
    "# X = X.reshape(-1, 1)\n",
    "# clustering = DBSCAN(eps=2).fit(X)\n",
    "# X_labels = clustering.labels_.tolist()\n",
    "# print(X_labels)\n",
    "# print(X_list)"
   ],
   "metadata": {
    "collapsed": false
   }
  },
  {
   "cell_type": "code",
   "execution_count": null,
   "outputs": [],
   "source": [],
   "metadata": {
    "collapsed": false
   }
  }
 ],
 "metadata": {
  "kernelspec": {
   "display_name": "Python 3 (ipykernel)",
   "language": "python",
   "name": "python3"
  },
  "language_info": {
   "codemirror_mode": {
    "name": "ipython",
    "version": 2
   },
   "file_extension": ".py",
   "mimetype": "text/x-python",
   "name": "python",
   "nbconvert_exporter": "python",
   "pygments_lexer": "ipython2",
   "version": "2.7.6"
  }
 },
 "nbformat": 4,
 "nbformat_minor": 1
}
