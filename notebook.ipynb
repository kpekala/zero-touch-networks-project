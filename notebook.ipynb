{
 "cells": [
  {
   "cell_type": "code",
   "execution_count": 5,
   "metadata": {
    "collapsed": true
   },
   "outputs": [],
   "source": [
    "import numpy as np\n",
    "import tensorflow as tf\n",
    "from sklearn.cluster import DBSCAN, KMeans\n",
    "from matplotlib import pyplot as plt\n",
    "from math import inf"
   ]
  },
  {
   "cell_type": "code",
   "execution_count": 6,
   "outputs": [
    {
     "name": "stdout",
     "output_type": "stream",
     "text": [
      " TensorFlow version: 2.10.0\n",
      " NumPy versio: 1.23.4\n"
     ]
    }
   ],
   "source": [
    "print(f' TensorFlow version: {tf.__version__}')\n",
    "print(f' NumPy versio: {np.__version__}')"
   ],
   "metadata": {
    "collapsed": false
   }
  },
  {
   "cell_type": "markdown",
   "source": [
    "## Algorithms implementation"
   ],
   "metadata": {
    "collapsed": false
   }
  },
  {
   "cell_type": "markdown",
   "source": [
    "### Utils"
   ],
   "metadata": {
    "collapsed": false
   }
  },
  {
   "cell_type": "code",
   "execution_count": 177,
   "outputs": [],
   "source": [
    "def dbscan(x):\n",
    "    x_list = x.tolist()\n",
    "    clustering = DBSCAN(eps=2).fit(x.reshape(-1, 1))\n",
    "    x_labels = clustering.labels_.tolist()\n",
    "    clusters = [[] for _ in range(max(x_labels)+1)]\n",
    "    noice = []\n",
    "    for i in range(len(x_list)):\n",
    "        if x_labels[i] == -1:\n",
    "            noice.append(x_list[i])\n",
    "        else:\n",
    "            clusters[x_labels[i]].append(x_list[i])\n",
    "    return clusters, noice"
   ],
   "metadata": {
    "collapsed": false
   }
  },
  {
   "cell_type": "markdown",
   "source": [
    "### Stage 1 - Flow clustering"
   ],
   "metadata": {
    "collapsed": false
   }
  },
  {
   "cell_type": "code",
   "execution_count": 265,
   "outputs": [],
   "source": [
    "def subset_of_sets(_set: set, sets):\n",
    "    return len([_ for s in sets if all([x in s for x in _set])]) > 0\n",
    "\n",
    "\n",
    "def tp_cluster(clusters: set, noise: set, tp_ratio: float, tp_deviation: float):\n",
    "    \"\"\"\n",
    "        Parameters\n",
    "        clusters : set\n",
    "            Set of DBSCAN cluster sets in descending throughput order\n",
    "        noise : set\n",
    "            Set of DBSCAN noice flows\n",
    "        tp_ratio : float\n",
    "            Ratio used to determine if two DBSCAN clusters can be combined into one TPCluster\n",
    "        tp_deviation : float\n",
    "            The relative distance a noise flow can be away from a TPCluster to be assigned to that cluster\n",
    "\n",
    "        Returns\n",
    "        cs : set\n",
    "            set of TPClusters\n",
    "    \"\"\"\n",
    "\n",
    "    r = 0\n",
    "    cs = []\n",
    "    for cluster in clusters:\n",
    "        if not subset_of_sets(cluster, cs):\n",
    "            cs.append(cluster)\n",
    "            m = max(cluster)\n",
    "            for cluster_k in clusters:\n",
    "                if cluster_k is cluster: continue\n",
    "                m_prim = max(cluster_k)\n",
    "                if (1 - tp_ratio) * m < m_prim < m:\n",
    "                    cs[r] += cluster_k\n",
    "            r += 1\n",
    "    for n_j in noise:\n",
    "        delta_min = inf\n",
    "        a = None\n",
    "        for i in range(len(cs)):\n",
    "            m = max(cs[i])\n",
    "            if (-tp_deviation * m) <= (m - n_j) <= delta_min:\n",
    "                delta_min = m - n_j\n",
    "                a = i\n",
    "        if a:\n",
    "            cs[a].append(n_j)\n",
    "        else:\n",
    "            cs[0].append(n_j)\n",
    "    return cs\n"
   ],
   "metadata": {
    "collapsed": false
   }
  },
  {
   "cell_type": "markdown",
   "source": [
    "### Stage 2 - FOF computation"
   ],
   "metadata": {
    "collapsed": false
   }
  },
  {
   "cell_type": "code",
   "execution_count": 274,
   "outputs": [],
   "source": [
    "def compute_fof(cs):\n",
    "    \"\"\"\n",
    "        Parameters\n",
    "        clusters : list of TPClusters\n",
    "\n",
    "        Returns:\n",
    "            FOF score for each flow in each cluster\n",
    "    \"\"\"\n",
    "    f = [[_ for _ in c_i] for c_i in cs]\n",
    "    k = len(cs)\n",
    "    for i in range(k):\n",
    "        c_np = np.array(cs[i])\n",
    "        s_labels = KMeans(n_clusters=k).fit(c_np.reshape((-1, 1))).labels_\n",
    "        s_count = max(s_labels) + 1\n",
    "        c_prim = 0\n",
    "        for s_i in range(s_count):\n",
    "            c_prim = max(c_prim, np.sum(c_np * (s_labels == s_i)) / np.sum(s_labels == s_i))\n",
    "        for j in range(len(cs[i])):\n",
    "            f[i][j] = np.abs(cs[i][j] - c_prim) / np.abs(c_prim)\n",
    "    return f\n"
   ],
   "metadata": {
    "collapsed": false
   }
  },
  {
   "cell_type": "markdown",
   "source": [
    "## Testing"
   ],
   "metadata": {
    "collapsed": false
   }
  },
  {
   "cell_type": "code",
   "execution_count": 276,
   "outputs": [
    {
     "name": "stdout",
     "output_type": "stream",
     "text": [
      "([[8.75477003000384, 10.1257398484037, 9.210688519653356, 9.50659805430878, 9.676483766922217, 8.618932970266242, 9.164731952778231, 11.863227953857136, 9.907727004957595, 10.00197963257761], [19.296828019687563, 19.53045571919184, 22.388702590416493, 21.56387295935107, 21.260355184058238, 19.38420758205138, 19.43669647326851, 18.737671554791604, 19.581234297796264, 19.583534972596382], [29.66309837900521, 29.694191452735787, 29.035611470902833, 31.13354909122758, 29.165875496423403, 30.812353630840875, 29.823536556829787, 29.456903479270405, 30.470706936734473, 28.312863403994804]], [0.0])\n"
     ]
    }
   ],
   "source": [
    "# dbscan test\n",
    "X1 = np.random.normal(10, 1, 10)\n",
    "X2 = np.random.normal(20, 1, 10)\n",
    "X3 = np.random.normal(30, 1, 10)\n",
    "X = np.concatenate((X1, X2, X3, np.array([0])), axis=0)\n",
    "print(dbscan(X))"
   ],
   "metadata": {
    "collapsed": false
   }
  },
  {
   "cell_type": "code",
   "execution_count": 277,
   "outputs": [
    {
     "name": "stdout",
     "output_type": "stream",
     "text": [
      "[10.23808206 10.77027584 10.63152416  9.46616636 10.60282474 10.99136685\n",
      "  9.31654056  9.63992683  9.90298727  9.86775042]\n",
      "[1 1 1 1 1 1 1 1 1 1 2 2 2 2 2 2 2 2 2 2 0 0 0 0 0 0 0 0 0 0 3]\n",
      "29.756868989796523\n"
     ]
    }
   ],
   "source": [
    "# k_means test\n",
    "Y = np.random.normal(10, 1, 10)\n",
    "k_means = KMeans(n_clusters=4).fit(X.reshape(-1, 1)).labels_\n",
    "print(Y)\n",
    "print(k_means)\n",
    "print(np.sum(X * (k_means == 0)) / np.sum(k_means == 0))"
   ],
   "metadata": {
    "collapsed": false
   }
  },
  {
   "cell_type": "code",
   "execution_count": 278,
   "outputs": [
    {
     "name": "stdout",
     "output_type": "stream",
     "text": [
      "X: [ 8.75477003 10.12573985  9.21068852  9.50659805  9.67648377  8.61893297\n",
      "  9.16473195 11.86322795  9.907727   10.00197963 19.29682802 19.53045572\n",
      " 22.38870259 21.56387296 21.26035518 19.38420758 19.43669647 18.73767155\n",
      " 19.5812343  19.58353497 29.66309838 29.69419145 29.03561147 31.13354909\n",
      " 29.1658755  30.81235363 29.82353656 29.45690348 30.47070694 28.3128634\n",
      "  0.        ]\n",
      "Clusters and noise: [[8.75477003000384, 10.1257398484037, 9.210688519653356, 9.50659805430878, 9.676483766922217, 8.618932970266242, 9.164731952778231, 11.863227953857136, 9.907727004957595, 10.00197963257761], [19.296828019687563, 19.53045571919184, 22.388702590416493, 21.56387295935107, 21.260355184058238, 19.38420758205138, 19.43669647326851, 18.737671554791604, 19.581234297796264, 19.583534972596382], [29.66309837900521, 29.694191452735787, 29.035611470902833, 31.13354909122758, 29.165875496423403, 30.812353630840875, 29.823536556829787, 29.456903479270405, 30.470706936734473, 28.312863403994804]] [0.0]\n"
     ]
    }
   ],
   "source": [
    "# Stage 1 test\n",
    "print(\"X:\", X)\n",
    "clusters, noise = dbscan(X)\n",
    "print(\"Clusters and noise:\", clusters, noise)\n",
    "tpc = tp_cluster(clusters, noise, 0.2, 0.2)"
   ],
   "metadata": {
    "collapsed": false
   }
  },
  {
   "cell_type": "code",
   "execution_count": 281,
   "outputs": [
    {
     "data": {
      "text/plain": "<matplotlib.collections.PathCollection at 0x1ca20c25750>"
     },
     "execution_count": 281,
     "metadata": {},
     "output_type": "execute_result"
    },
    {
     "data": {
      "text/plain": "<Figure size 640x480 with 1 Axes>",
      "image/png": "[encoded data removed]"
     },
     "metadata": {},
     "output_type": "display_data"
    }
   ],
   "source": [
    "plt.scatter(np.array(tpc[0]), np.ones((1, len(tpc[0]))), color ='red')\n",
    "plt.scatter(np.array(tpc[1]), np.ones((1, len(tpc[1]))), color = 'blue')\n",
    "plt.scatter(np.array(tpc[2]), np.ones((1, len(tpc[2]))), color = 'green')"
   ],
   "metadata": {
    "collapsed": false
   }
  },
  {
   "cell_type": "code",
   "execution_count": 290,
   "outputs": [
    {
     "name": "stdout",
     "output_type": "stream",
     "text": [
      "[[0.26202463072815113, 0.14645997802718771, 0.22359339671470693, 0.1986499718891548, 0.18432961040961318, 0.2734748920116691, 0.22746726368024753, 0.0, 0.16483717218497362, 0.15689223274803304, 1.0], [0.13809976519373704, 0.12766469426630062, 0.0, 0.036841332262749896, 0.050398070267870076, 0.1341969234810055, 0.1318524869954543, 0.16307470345279038, 0.1253966495504732, 0.12529388902690886], [0.03708548208423529, 0.03607614813943777, 0.05745477209884491, 0.010647843699447745, 0.05322618074492601, 0.00022129391886586896, 0.0318773865346288, 0.04377891848585393, 0.01086913761831373, 0.08091640100656101]]\n"
     ]
    }
   ],
   "source": [
    "# Stage 2 test\n",
    "print(compute_fof(tpc))"
   ],
   "metadata": {
    "collapsed": false
   }
  }
 ],
 "metadata": {
  "kernelspec": {
   "display_name": "Python 3 (ipykernel)",
   "language": "python",
   "name": "python3"
  },
  "language_info": {
   "codemirror_mode": {
    "name": "ipython",
    "version": 2
   },
   "file_extension": ".py",
   "mimetype": "text/x-python",
   "name": "python",
   "nbconvert_exporter": "python",
   "pygments_lexer": "ipython2",
   "version": "2.7.6"
  }
 },
 "nbformat": 4,
 "nbformat_minor": 1
}
