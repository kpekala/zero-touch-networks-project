{
 "cells": [
  {
   "cell_type": "code",
   "execution_count": 2,
   "metadata": {
    "collapsed": true
   },
   "outputs": [],
   "source": [
    "import numpy as np\n",
    "import tensorflow as tf\n",
    "from sklearn.cluster import DBSCAN, KMeans\n",
    "from matplotlib import pyplot as plt\n",
    "from math import inf"
   ]
  },
  {
   "cell_type": "code",
   "execution_count": 3,
   "outputs": [
    {
     "name": "stdout",
     "output_type": "stream",
     "text": [
      " TensorFlow version: 2.10.0\n",
      " NumPy versio: 1.23.4\n"
     ]
    }
   ],
   "source": [
    "print(f' TensorFlow version: {tf.__version__}')\n",
    "print(f' NumPy versio: {np.__version__}')"
   ],
   "metadata": {
    "collapsed": false
   }
  },
  {
   "cell_type": "markdown",
   "source": [
    "## Algorithms implementation"
   ],
   "metadata": {
    "collapsed": false
   }
  },
  {
   "cell_type": "markdown",
   "source": [
    "### Utils"
   ],
   "metadata": {
    "collapsed": false
   }
  },
  {
   "cell_type": "code",
   "execution_count": 4,
   "outputs": [],
   "source": [
    "def dbscan(x):\n",
    "    x_list = x.tolist()\n",
    "    clustering = DBSCAN(eps=2).fit(x.reshape(-1, 1))\n",
    "    x_labels = clustering.labels_.tolist()\n",
    "    clusters = [[] for _ in range(max(x_labels)+1)]\n",
    "    noice = []\n",
    "    for i in range(len(x_list)):\n",
    "        if x_labels[i] == -1:\n",
    "            noice.append(x_list[i])\n",
    "        else:\n",
    "            clusters[x_labels[i]].append(x_list[i])\n",
    "    return clusters, noice"
   ],
   "metadata": {
    "collapsed": false
   }
  },
  {
   "cell_type": "markdown",
   "source": [
    "### Stage 1 - Flow clustering"
   ],
   "metadata": {
    "collapsed": false
   }
  },
  {
   "cell_type": "code",
   "execution_count": 5,
   "outputs": [],
   "source": [
    "def subset_of_sets(_set: set, sets):\n",
    "    return len([s for s in sets if all([x in s for x in _set])]) > 0\n",
    "\n",
    "\n",
    "def tp_cluster(clusters: set, noise: set, tp_ratio: float, tp_deviation: float):\n",
    "    \"\"\"\n",
    "        Parameters :\n",
    "            clusters : set\n",
    "                Set of DBSCAN cluster sets in descending throughput order\n",
    "            noise : set\n",
    "                Set of DBSCAN noice flows\n",
    "            tp_ratio : float\n",
    "                Ratio used to determine if two DBSCAN clusters can be combined into one TPCluster\n",
    "            tp_deviation : float\n",
    "                The relative distance a noise flow can be away from a TPCluster to be assigned to that cluster\n",
    "\n",
    "        Returns :\n",
    "            cs : set\n",
    "                set of TPClusters\n",
    "    \"\"\"\n",
    "\n",
    "    r = 0\n",
    "    cs = []\n",
    "    for cluster in clusters:\n",
    "        if not subset_of_sets(cluster, cs):\n",
    "            cs.append(cluster)\n",
    "            m = max(cluster)\n",
    "            for cluster_k in clusters:\n",
    "                if cluster_k is cluster: continue\n",
    "                m_prim = max(cluster_k)\n",
    "                if (1 - tp_ratio) * m < m_prim < m:\n",
    "                    cs[r] += cluster_k\n",
    "            r += 1\n",
    "    for n_j in noise:\n",
    "        delta_min = inf\n",
    "        a = None\n",
    "        for i in range(len(cs)):\n",
    "            m = max(cs[i])\n",
    "            if (-tp_deviation * m) <= (m - n_j) <= delta_min:\n",
    "                delta_min = m - n_j\n",
    "                a = i\n",
    "        if a:\n",
    "            cs[a].append(n_j)\n",
    "        else:\n",
    "            cs[0].append(n_j)\n",
    "    return cs\n"
   ],
   "metadata": {
    "collapsed": false
   }
  },
  {
   "cell_type": "markdown",
   "source": [
    "### Stage 2 and 3 - FOF computation and flow tracing"
   ],
   "metadata": {
    "collapsed": false
   }
  },
  {
   "cell_type": "code",
   "execution_count": 6,
   "outputs": [],
   "source": [
    "def compute_fof(cs):\n",
    "    \"\"\"\n",
    "        Parameters:\n",
    "            cs : list of TPClusters\n",
    "\n",
    "        Returns:\n",
    "            f: 2d list\n",
    "                FOF score for each flow in each cluster\n",
    "            trace : dict\n",
    "                dictionary mapping throughput to fof score\n",
    "\n",
    "    \"\"\"\n",
    "    f = [[_ for _ in c_i] for c_i in cs]\n",
    "    trace = dict()\n",
    "    k = len(cs)\n",
    "    for i in range(k):\n",
    "        c_np = np.array(cs[i])\n",
    "        s_labels = KMeans(n_clusters=k).fit(c_np.reshape((-1, 1))).labels_\n",
    "        s_count = max(s_labels) + 1\n",
    "        c_prim = 0\n",
    "        for s_i in range(s_count):\n",
    "            c_prim = max(c_prim, np.sum(c_np * (s_labels == s_i)) / np.sum(s_labels == s_i))\n",
    "        for j in range(len(cs[i])):\n",
    "            f[i][j] = np.abs(cs[i][j] - c_prim) / np.abs(c_prim)\n",
    "            trace[cs[i][j]] = f[i][j]\n",
    "    return f, trace\n"
   ],
   "metadata": {
    "collapsed": false
   }
  },
  {
   "cell_type": "markdown",
   "source": [
    "### Stage 4 - computing NLOF score"
   ],
   "metadata": {
    "collapsed": false
   }
  },
  {
   "cell_type": "code",
   "execution_count": 7,
   "outputs": [],
   "source": [
    "def compute_nlof_score(links, trace, gamma):\n",
    "    \"\"\"\n",
    "        Parameters:\n",
    "            links : 2d list\n",
    "                links, each link contains list of flows (throughput)\n",
    "            trace : dict\n",
    "                dictionary mapping throughput to fof score\n",
    "            gamma : float\n",
    "                Outlier treshold\n",
    "\n",
    "        Returns:\n",
    "            scores : list\n",
    "                nlof scores for each link\n",
    "    \"\"\"\n",
    "    scores = [0 * len(links)]\n",
    "    for i in range(len(links)):\n",
    "        r = 0\n",
    "        for j in range(len(links[i])):\n",
    "            if trace[links[i][j]] > gamma :\n",
    "                r += 1\n",
    "        scores[i] = r / len(links[i])\n",
    "    return scores\n"
   ],
   "metadata": {
    "collapsed": false
   }
  },
  {
   "cell_type": "markdown",
   "source": [
    "## Testing"
   ],
   "metadata": {
    "collapsed": false
   }
  },
  {
   "cell_type": "code",
   "execution_count": 8,
   "outputs": [
    {
     "name": "stdout",
     "output_type": "stream",
     "text": [
      "([[10.887466215619538, 10.207656712689845, 8.030892925408693, 10.03000967506584, 10.696436269988752, 11.09295617159828, 9.278738317620904, 8.737419928316768, 11.32014100718772, 10.252116519703703], [18.010220515599716, 19.707033971250198, 19.060474528095167, 20.34393133195667, 20.338525339151712, 22.17109155915196, 19.27754718102307, 21.23543487362171, 20.50592913298754, 21.1754727918811], [29.77109721301954, 29.75329184560909, 27.938788339994723, 30.973274975835448, 31.6545295031985, 29.20751265777539, 32.270758055734, 32.131304056417896, 29.868170576686754, 29.54402805522307]], [0.0])\n"
     ]
    }
   ],
   "source": [
    "# dbscan test\n",
    "X1 = np.random.normal(10, 1, 10)\n",
    "X2 = np.random.normal(20, 1, 10)\n",
    "X3 = np.random.normal(30, 1, 10)\n",
    "X = np.concatenate((X1, X2, X3, np.array([0])), axis=0)\n",
    "print(dbscan(X))"
   ],
   "metadata": {
    "collapsed": false
   }
  },
  {
   "cell_type": "code",
   "execution_count": 9,
   "outputs": [
    {
     "name": "stdout",
     "output_type": "stream",
     "text": [
      "[ 9.35892704 10.77904182  9.39982942  8.62736642  9.95090569  9.87849269\n",
      "  9.77005971 11.25265231  9.443711    9.41502164]\n",
      "[2 2 2 2 2 2 2 2 2 2 0 0 0 0 0 0 0 0 0 0 1 1 1 1 1 1 1 1 1 1 3]\n",
      "20.182566122471883\n"
     ]
    }
   ],
   "source": [
    "# k_means test\n",
    "Y = np.random.normal(10, 1, 10)\n",
    "k_means = KMeans(n_clusters=4).fit(X.reshape(-1, 1)).labels_\n",
    "print(Y)\n",
    "print(k_means)\n",
    "print(np.sum(X * (k_means == 0)) / np.sum(k_means == 0))"
   ],
   "metadata": {
    "collapsed": false
   }
  },
  {
   "cell_type": "code",
   "execution_count": 10,
   "outputs": [
    {
     "name": "stdout",
     "output_type": "stream",
     "text": [
      "X: [10.88746622 10.20765671  8.03089293 10.03000968 10.69643627 11.09295617\n",
      "  9.27873832  8.73741993 11.32014101 10.25211652 18.01022052 19.70703397\n",
      " 19.06047453 20.34393133 20.33852534 22.17109156 19.27754718 21.23543487\n",
      " 20.50592913 21.17547279 29.77109721 29.75329185 27.93878834 30.97327498\n",
      " 31.6545295  29.20751266 32.27075806 32.13130406 29.86817058 29.54402806\n",
      "  0.        ]\n",
      "Clusters and noise: [[10.887466215619538, 10.207656712689845, 8.030892925408693, 10.03000967506584, 10.696436269988752, 11.09295617159828, 9.278738317620904, 8.737419928316768, 11.32014100718772, 10.252116519703703], [18.010220515599716, 19.707033971250198, 19.060474528095167, 20.34393133195667, 20.338525339151712, 22.17109155915196, 19.27754718102307, 21.23543487362171, 20.50592913298754, 21.1754727918811], [29.77109721301954, 29.75329184560909, 27.938788339994723, 30.973274975835448, 31.6545295031985, 29.20751265777539, 32.270758055734, 32.131304056417896, 29.868170576686754, 29.54402805522307]] [0.0]\n"
     ]
    }
   ],
   "source": [
    "# Stage 1 test\n",
    "print(\"X:\", X)\n",
    "clusters, noise = dbscan(X)\n",
    "print(\"Clusters and noise:\", clusters, noise)\n",
    "tpc = tp_cluster(clusters, noise, 0.2, 0.2)"
   ],
   "metadata": {
    "collapsed": false
   }
  },
  {
   "cell_type": "code",
   "execution_count": 11,
   "outputs": [
    {
     "data": {
      "text/plain": "<matplotlib.collections.PathCollection at 0x2eaee312980>"
     },
     "execution_count": 11,
     "metadata": {},
     "output_type": "execute_result"
    },
    {
     "data": {
      "text/plain": "<Figure size 640x480 with 1 Axes>",
      "image/png": "[encoded data removed]"
     },
     "metadata": {},
     "output_type": "display_data"
    }
   ],
   "source": [
    "plt.scatter(np.array(tpc[0]), np.ones((1, len(tpc[0]))), color ='red')\n",
    "plt.scatter(np.array(tpc[1]), np.ones((1, len(tpc[1]))), color = 'blue')\n",
    "plt.scatter(np.array(tpc[2]), np.ones((1, len(tpc[2]))), color = 'green')"
   ],
   "metadata": {
    "collapsed": false
   }
  },
  {
   "cell_type": "code",
   "execution_count": 14,
   "outputs": [
    {
     "name": "stdout",
     "output_type": "stream",
     "text": [
      "trace map: {10.887466215619538: 0.02316492776176233, 10.207656712689845: 0.04072112498749428, 8.030892925408693: 0.24528555890258993, 10.03000967506584: 0.057415754832305585, 10.696436269988752: 0.005212620342314243, 11.09295617159828: 0.04247613496102093, 9.278738317620904: 0.1280175357192911, 8.737419928316768: 0.17888869157131992, 11.32014100718772: 0.06382614893956816, 10.252116519703703: 0.036542952184865966, 0.0: 1.0, 18.010220515599716: 0.16337892608669116, 19.707033971250198: 0.08455757605006792, 19.060474528095167: 0.11459192544699093, 20.34393133195667: 0.0549720552384112, 20.338525339151712: 0.05522317751101945, 22.17109155915196: 0.029904237651160154, 19.27754718102307: 0.10450834230305037, 21.23543487362171: 0.013559422351473626, 20.50592913298754: 0.04744684064413969, 21.1754727918811: 0.01634481529968636, 29.77109721301954: 0.0625481074043653, 29.75329184560909: 0.06310877452583058, 27.938788339994723: 0.12024505449859944, 30.973274975835448: 0.024693143211265152, 31.6545295031985: 0.0032413525215842496, 29.20751265777539: 0.0802946286081672, 32.270758055734: 0.016162857498368884, 32.131304056417896: 0.011771638234480294, 29.868170576686754: 0.059491397473948056, 29.54402805522307: 0.06969821041210085}\n"
     ]
    }
   ],
   "source": [
    "# Stage 2 test\n",
    "f, trace = compute_fof(tpc)\n",
    "print(f'trace map: {trace}')"
   ],
   "metadata": {
    "collapsed": false
   }
  },
  {
   "cell_type": "code",
   "execution_count": 16,
   "outputs": [],
   "source": [
    "#Stage 4 test\n",
    "\n",
    "#create links data"
   ],
   "metadata": {
    "collapsed": false
   }
  }
 ],
 "metadata": {
  "kernelspec": {
   "display_name": "Python 3 (ipykernel)",
   "language": "python",
   "name": "python3"
  },
  "language_info": {
   "codemirror_mode": {
    "name": "ipython",
    "version": 2
   },
   "file_extension": ".py",
   "mimetype": "text/x-python",
   "name": "python",
   "nbconvert_exporter": "python",
   "pygments_lexer": "ipython2",
   "version": "2.7.6"
  }
 },
 "nbformat": 4,
 "nbformat_minor": 1
}
